{
 "cells": [
  {
   "cell_type": "code",
   "execution_count": 1,
   "id": "aa3f23ab",
   "metadata": {
    "hide_input": false
   },
   "outputs": [],
   "source": [
    "import cv2\n",
    "import numpy as np\n",
    "\n",
    "\n",
    "face_classifier = cv2.CascadeClassifier('haarcascade_frontalface_alt2.xml')\n",
    "# Initialize facial recognizer\n",
    "model = cv2.face.LBPHFaceRecognizer_create()\n",
    "model.read('model2.xml')\n",
    "\n",
    "def face_detector(img, size=0.5):\n",
    "    \n",
    "    # Convert image to grayscale\n",
    "    gray = cv2.cvtColor(img,cv2.COLOR_BGR2GRAY)\n",
    "    faces = face_classifier.detectMultiScale(gray, 1.3, 5)\n",
    "    if faces is ():\n",
    "        return img, []\n",
    "    \n",
    "    for (x,y,w,h) in faces:\n",
    "        cv2.rectangle(img,(x,y),(x+w,y+h),(0,255,255),2)\n",
    "        roi = img[y:y+h, x:x+w]\n",
    "        roi = cv2.resize(roi, (200, 200))\n",
    "    return img, roi\n",
    "\n",
    "def turn_video():\n",
    "    # Open Webcam\n",
    "    cap = cv2.VideoCapture(0)\n",
    "    flag=False\n",
    "\n",
    "    while True:\n",
    "\n",
    "        ret, frame = cap.read()\n",
    "\n",
    "        image, face = face_detector(frame)\n",
    "\n",
    "        try:\n",
    "            face = cv2.cvtColor(face, cv2.COLOR_BGR2GRAY)\n",
    "\n",
    "            # Pass face to prediction model\n",
    "            # \"results\" comprises of a tuple containing the label and the confidence value\n",
    "            results = model.predict(face)\n",
    "\n",
    "            if results[1] < 500:\n",
    "                confidence = int( 100 * (1 - (results[1])/400) )\n",
    "                display_string = str(confidence) + '% Confident it is Aarushi'\n",
    "\n",
    "\n",
    "\n",
    "            if confidence > 90:\n",
    "                cv2.putText(image, display_string, (100, 120), cv2.FONT_HERSHEY_COMPLEX, 1, (27, 36, 51), 2)\n",
    "                cv2.putText(image, \"Unlocked\", (250, 450), cv2.FONT_HERSHEY_COMPLEX, 1, (0,255,0), 2)\n",
    "                cv2.imshow('Face Recognition', image )\n",
    "                flag=True\n",
    "            else:\n",
    "                cv2.putText(image, \"USER NOT FOUND\", (250, 450), cv2.FONT_HERSHEY_COMPLEX, 1, (0,0,255), 2)\n",
    "                cv2.imshow('Face Recognition', image )\n",
    "\n",
    "        except:\n",
    "            cv2.putText(image, \"No Face Found\", (220, 120) , cv2.FONT_HERSHEY_COMPLEX, 1, (0,0,255), 2)\n",
    "            cv2.putText(image, \"Locked\", (250, 450), cv2.FONT_HERSHEY_COMPLEX, 1, (0,0,255), 2)\n",
    "            cv2.imshow('Face Recognition', image )\n",
    "            pass\n",
    "\n",
    "        if cv2.waitKey(1) == 13: #13 is the Enter Key\n",
    "            break\n",
    "\n",
    "    cap.release()\n",
    "    cv2.destroyAllWindows()\n",
    "    return flag"
   ]
  },
  {
   "cell_type": "code",
   "execution_count": 2,
   "id": "0ba7285f",
   "metadata": {
    "hide_input": false
   },
   "outputs": [
    {
     "name": "stdout",
     "output_type": "stream",
     "text": [
      "\n",
      "\n",
      "Select the app you want to open----\n",
      "***********************************\n",
      "\n",
      "1 - Instagram \n",
      "\n",
      "2 - Facebook \n",
      "\n",
      "3 - Youtube \n",
      "\n",
      "1\n",
      "...........Verifying Face Data......\n",
      "Do you want to unlock another another app! (y/n)n\n",
      "BYE!!!\n"
     ]
    }
   ],
   "source": [
    "from termcolor import colored\n",
    "import webbrowser\n",
    "import time\n",
    "while True:\n",
    "    print('\\n')\n",
    "    print('Select the app you want to open----')\n",
    "    print('***********************************\\n')\n",
    "\n",
    "\n",
    "    list1=['Instagram','Facebook','Youtube']\n",
    "    for i in range(len(list1)):\n",
    "        print(str(i+1),\"-\",list1[i],\"\\n\")\n",
    "\n",
    "    user=int(input())\n",
    "    if user==1:\n",
    "         print(\"...........Verifying Face Data......\")\n",
    "         value=turn_video()\n",
    "         if value==True:\n",
    "            print(\"FACE IDENTIFICATION DONE...OPENING INSTAGRAM\")\n",
    "            webbrowser.open_new_tab(\"https://www.instagram.com\")\n",
    "\n",
    "    elif user==2:\n",
    "         print(\"...........Verifying Face Data......\")\n",
    "         value=turn_video() \n",
    "         time.sleep(4)    \n",
    "         if value==True:\n",
    "             print(\"FACE IDENTIFICATION DONE...OPENING FACEBOOK\")  \n",
    "             webbrowser.open_new_tab(\"https://www.facebook.com\")\n",
    "    elif user==3:\n",
    "         print(\"...........Verifying Face Data......\")\n",
    "         value=turn_video()  \n",
    "         time.sleep(4)    \n",
    "         if value==True:\n",
    "             print(\"FACE IDENTIFICATION DONE...OPENING YOUTUBE\") \n",
    "             webbrowser.open_new_tab(\"https://www.youtube.com\")\n",
    "                \n",
    "    time.sleep(10)  \n",
    "    user1=input(\"Do you want to unlock another another app! (y/n)\")\n",
    "    if user1=='n':\n",
    "            print(\"BYE!!!\")\n",
    "            break\n",
    "    "
   ]
  },
  {
   "cell_type": "code",
   "execution_count": null,
   "id": "9a04bc3c",
   "metadata": {
    "hide_input": true
   },
   "outputs": [],
   "source": []
  }
 ],
 "metadata": {
  "kernelspec": {
   "display_name": "Python 3",
   "language": "python",
   "name": "python3"
  },
  "language_info": {
   "codemirror_mode": {
    "name": "ipython",
    "version": 3
   },
   "file_extension": ".py",
   "mimetype": "text/x-python",
   "name": "python",
   "nbconvert_exporter": "python",
   "pygments_lexer": "ipython3",
   "version": "3.7.11"
  },
  "toc": {
   "base_numbering": 1,
   "nav_menu": {},
   "number_sections": true,
   "sideBar": true,
   "skip_h1_title": false,
   "title_cell": "Table of Contents",
   "title_sidebar": "Contents",
   "toc_cell": false,
   "toc_position": {},
   "toc_section_display": true,
   "toc_window_display": false
  },
  "varInspector": {
   "cols": {
    "lenName": 16,
    "lenType": 16,
    "lenVar": 40
   },
   "kernels_config": {
    "python": {
     "delete_cmd_postfix": "",
     "delete_cmd_prefix": "del ",
     "library": "var_list.py",
     "varRefreshCmd": "print(var_dic_list())"
    },
    "r": {
     "delete_cmd_postfix": ") ",
     "delete_cmd_prefix": "rm(",
     "library": "var_list.r",
     "varRefreshCmd": "cat(var_dic_list()) "
    }
   },
   "types_to_exclude": [
    "module",
    "function",
    "builtin_function_or_method",
    "instance",
    "_Feature"
   ],
   "window_display": false
  }
 },
 "nbformat": 4,
 "nbformat_minor": 5
}
