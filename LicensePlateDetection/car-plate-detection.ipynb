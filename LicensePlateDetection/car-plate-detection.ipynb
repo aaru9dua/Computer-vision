{
 "cells": [
  {
   "cell_type": "code",
   "execution_count": null,
   "metadata": {
    "_cell_guid": "b1076dfc-b9ad-4769-8c92-a6c4dae69d19",
    "_uuid": "8f2839f25d086af736a60e9eeb907d3b93b6e0e5"
   },
   "outputs": [],
   "source": [
    "# This Python 3 environment comes with many helpful analytics libraries installed\n",
    "# It is defined by the kaggle/python Docker image: https://github.com/kaggle/docker-python\n",
    "# For example, here's several helpful packages to load\n",
    "\n",
    "import numpy as np # linear algebra\n",
    "import pandas as pd # data processing, CSV file I/O (e.g. pd.read_csv)\n",
    "\n",
    "# Input data files are available in the read-only \"../input/\" directory\n",
    "# For example, running this (by clicking run or pressing Shift+Enter) will list all files under the input directory\n",
    "\n",
    "import os\n",
    "for dirname, _, filenames in os.walk('/kaggle/input'):\n",
    "    for filename in filenames:\n",
    "        print(os.path.join(dirname, filename))\n",
    "\n",
    "# You can write up to 20GB to the current directory (/kaggle/working/) that gets preserved as output when you create a version using \"Save & Run All\" \n",
    "# You can also write temporary files to /kaggle/temp/, but they won't be saved outside of the current session"
   ]
  },
  {
   "cell_type": "code",
   "execution_count": null,
   "metadata": {
    "execution": {
     "iopub.execute_input": "2021-08-12T11:40:18.184981Z",
     "iopub.status.busy": "2021-08-12T11:40:18.184572Z",
     "iopub.status.idle": "2021-08-12T11:40:19.041529Z",
     "shell.execute_reply": "2021-08-12T11:40:19.040623Z",
     "shell.execute_reply.started": "2021-08-12T11:40:18.18494Z"
    }
   },
   "outputs": [],
   "source": [
    "%matplotlib inline\n",
    "\n",
    "import pandas as pd\n",
    "import numpy as np\n",
    "from matplotlib import pyplot as plt\n",
    "import seaborn as sns\n",
    "import cv2\n",
    "import os\n",
    "import glob"
   ]
  },
  {
   "cell_type": "code",
   "execution_count": null,
   "metadata": {
    "execution": {
     "iopub.execute_input": "2021-08-12T11:40:19.831667Z",
     "iopub.status.busy": "2021-08-12T11:40:19.83132Z",
     "iopub.status.idle": "2021-08-12T11:40:19.837315Z",
     "shell.execute_reply": "2021-08-12T11:40:19.836073Z",
     "shell.execute_reply.started": "2021-08-12T11:40:19.831634Z"
    }
   },
   "outputs": [],
   "source": [
    "IMAGE_SIZE = 224"
   ]
  },
  {
   "cell_type": "code",
   "execution_count": null,
   "metadata": {
    "execution": {
     "iopub.execute_input": "2021-08-12T11:40:20.597926Z",
     "iopub.status.busy": "2021-08-12T11:40:20.597587Z",
     "iopub.status.idle": "2021-08-12T11:40:31.288194Z",
     "shell.execute_reply": "2021-08-12T11:40:31.287313Z",
     "shell.execute_reply.started": "2021-08-12T11:40:20.597896Z"
    }
   },
   "outputs": [],
   "source": [
    "img_dir = \"../input/car-plate-detection/images\" # Enter Directory of all images \n",
    "data_path = os.path.join(img_dir,'*g')\n",
    "files = glob.glob(data_path)\n",
    "files.sort() #We sort the images in alphabetical order to match them to the xml files containing the annotations of the bounding boxes\n",
    "X=[]\n",
    "for f1 in files:\n",
    "    img = cv2.imread(f1)\n",
    "    img = cv2.resize(img, (IMAGE_SIZE,IMAGE_SIZE))\n",
    "    X.append(np.array(img))"
   ]
  },
  {
   "cell_type": "code",
   "execution_count": null,
   "metadata": {
    "execution": {
     "iopub.execute_input": "2021-08-12T11:40:12.754668Z",
     "iopub.status.busy": "2021-08-12T11:40:12.754163Z",
     "iopub.status.idle": "2021-08-12T11:40:12.78548Z",
     "shell.execute_reply": "2021-08-12T11:40:12.784467Z",
     "shell.execute_reply.started": "2021-08-12T11:40:12.754563Z"
    }
   },
   "outputs": [],
   "source": [
    "def resizeannotation(f):\n",
    "    tree = etree.parse(f)\n",
    "    for dim in tree.xpath(\"size\"):\n",
    "        width = int(dim.xpath(\"width\")[0].text)\n",
    "        height = int(dim.xpath(\"height\")[0].text)\n",
    "    for dim in tree.xpath(\"object/bndbox\"):\n",
    "        xmin = int(dim.xpath(\"xmin\")[0].text)/(width/IMAGE_SIZE)\n",
    "        ymin = int(dim.xpath(\"ymin\")[0].text)/(height/IMAGE_SIZE)\n",
    "        xmax = int(dim.xpath(\"xmax\")[0].text)/(width/IMAGE_SIZE)\n",
    "        ymax = int(dim.xpath(\"ymax\")[0].text)/(height/IMAGE_SIZE)\n",
    "    return [int(xmax), int(ymax), int(xmin), int(ymin)]\n",
    "        "
   ]
  },
  {
   "cell_type": "code",
   "execution_count": null,
   "metadata": {
    "execution": {
     "iopub.execute_input": "2021-08-12T11:45:45.844586Z",
     "iopub.status.busy": "2021-08-12T11:45:45.844147Z",
     "iopub.status.idle": "2021-08-12T11:45:48.63549Z",
     "shell.execute_reply": "2021-08-12T11:45:48.6346Z",
     "shell.execute_reply.started": "2021-08-12T11:45:45.844549Z"
    }
   },
   "outputs": [],
   "source": [
    "path = '../input/car-plate-detection/annotations'\n",
    "text_files = ['../input/car-plate-detection/annotations/'+f for f in sorted(os.listdir(path))]\n",
    "y=[]\n",
    "for i in text_files:\n",
    "    y.append(resizeannotation(i))"
   ]
  },
  {
   "cell_type": "code",
   "execution_count": null,
   "metadata": {
    "execution": {
     "iopub.execute_input": "2021-08-12T11:43:10.768995Z",
     "iopub.status.busy": "2021-08-12T11:43:10.768589Z",
     "iopub.status.idle": "2021-08-12T11:43:18.982069Z",
     "shell.execute_reply": "2021-08-12T11:43:18.980922Z",
     "shell.execute_reply.started": "2021-08-12T11:43:10.768959Z"
    }
   },
   "outputs": [],
   "source": [
    "pip install elementpath"
   ]
  },
  {
   "cell_type": "code",
   "execution_count": null,
   "metadata": {
    "execution": {
     "iopub.execute_input": "2021-08-12T11:43:37.552368Z",
     "iopub.status.busy": "2021-08-12T11:43:37.551991Z",
     "iopub.status.idle": "2021-08-12T11:43:37.647699Z",
     "shell.execute_reply": "2021-08-12T11:43:37.646901Z",
     "shell.execute_reply.started": "2021-08-12T11:43:37.552331Z"
    }
   },
   "outputs": [],
   "source": [
    "import elementpath\n",
    "import lxml.etree as etree"
   ]
  },
  {
   "cell_type": "code",
   "execution_count": null,
   "metadata": {
    "execution": {
     "iopub.execute_input": "2021-08-12T11:43:40.158899Z",
     "iopub.status.busy": "2021-08-12T11:43:40.158544Z",
     "iopub.status.idle": "2021-08-12T11:43:40.182924Z",
     "shell.execute_reply": "2021-08-12T11:43:40.18212Z",
     "shell.execute_reply.started": "2021-08-12T11:43:40.158865Z"
    }
   },
   "outputs": [],
   "source": [
    "resizeannotation(\"/kaggle/input/car-plate-detection/annotations/Cars147.xml\")"
   ]
  },
  {
   "cell_type": "code",
   "execution_count": null,
   "metadata": {
    "execution": {
     "iopub.execute_input": "2021-08-12T11:44:46.170836Z",
     "iopub.status.busy": "2021-08-12T11:44:46.170428Z",
     "iopub.status.idle": "2021-08-12T11:44:47.183453Z",
     "shell.execute_reply": "2021-08-12T11:44:47.178734Z",
     "shell.execute_reply.started": "2021-08-12T11:44:46.170801Z"
    }
   },
   "outputs": [],
   "source": [
    "plt.figure(figsize=(10,20))\n",
    "for i in range(0,17) :\n",
    "    plt.subplot(10,5,i+1)\n",
    "    plt.axis('off')\n",
    "    plt.imshow(X[i])"
   ]
  },
  {
   "cell_type": "code",
   "execution_count": null,
   "metadata": {
    "execution": {
     "iopub.execute_input": "2021-08-12T11:45:51.903401Z",
     "iopub.status.busy": "2021-08-12T11:45:51.903024Z",
     "iopub.status.idle": "2021-08-12T11:45:52.084106Z",
     "shell.execute_reply": "2021-08-12T11:45:52.083112Z",
     "shell.execute_reply.started": "2021-08-12T11:45:51.903366Z"
    }
   },
   "outputs": [],
   "source": [
    "#Example with the first image of the dataset\n",
    "image = cv2.rectangle(X[0],(y[0][0],y[0][1]),(y[0][2],y[0][3]),(0, 0, 255))\n",
    "plt.imshow(image)\n",
    "plt.show()"
   ]
  },
  {
   "cell_type": "code",
   "execution_count": null,
   "metadata": {
    "execution": {
     "iopub.execute_input": "2021-08-12T11:46:13.035818Z",
     "iopub.status.busy": "2021-08-12T11:46:13.035474Z",
     "iopub.status.idle": "2021-08-12T11:46:13.066345Z",
     "shell.execute_reply": "2021-08-12T11:46:13.065494Z",
     "shell.execute_reply.started": "2021-08-12T11:46:13.035787Z"
    }
   },
   "outputs": [],
   "source": [
    "#Transforming in array\n",
    "X=np.array(X)\n",
    "y=np.array(y)"
   ]
  },
  {
   "cell_type": "code",
   "execution_count": null,
   "metadata": {
    "execution": {
     "iopub.execute_input": "2021-08-12T11:46:19.329828Z",
     "iopub.status.busy": "2021-08-12T11:46:19.329383Z",
     "iopub.status.idle": "2021-08-12T11:46:19.556365Z",
     "shell.execute_reply": "2021-08-12T11:46:19.555403Z",
     "shell.execute_reply.started": "2021-08-12T11:46:19.329776Z"
    }
   },
   "outputs": [],
   "source": [
    "#Renormalisation\n",
    "X = X / 255\n",
    "y = y / 255"
   ]
  },
  {
   "cell_type": "code",
   "execution_count": null,
   "metadata": {
    "execution": {
     "iopub.execute_input": "2021-08-12T11:47:14.555619Z",
     "iopub.status.busy": "2021-08-12T11:47:14.555244Z",
     "iopub.status.idle": "2021-08-12T11:47:14.980298Z",
     "shell.execute_reply": "2021-08-12T11:47:14.979374Z",
     "shell.execute_reply.started": "2021-08-12T11:47:14.555585Z"
    }
   },
   "outputs": [],
   "source": [
    "from sklearn.model_selection import train_test_split\n",
    "X_train, X_test, y_train, y_test = train_test_split(X, y, test_size=0.2, random_state=42)\n",
    "X_train, X_val, y_train, y_val = train_test_split(X_train, y_train, test_size=0.1, random_state=1)"
   ]
  },
  {
   "cell_type": "code",
   "execution_count": null,
   "metadata": {
    "execution": {
     "iopub.execute_input": "2021-08-12T11:47:24.252928Z",
     "iopub.status.busy": "2021-08-12T11:47:24.252594Z",
     "iopub.status.idle": "2021-08-12T11:47:28.295605Z",
     "shell.execute_reply": "2021-08-12T11:47:28.294766Z",
     "shell.execute_reply.started": "2021-08-12T11:47:24.252896Z"
    }
   },
   "outputs": [],
   "source": [
    "from keras.models import Sequential\n",
    "\n",
    "from keras.layers import Dense, Flatten\n",
    "\n",
    "from keras.applications.vgg19 import VGG19"
   ]
  },
  {
   "cell_type": "markdown",
   "metadata": {},
   "source": [
    "# CNN"
   ]
  },
  {
   "cell_type": "code",
   "execution_count": null,
   "metadata": {
    "execution": {
     "iopub.execute_input": "2021-08-12T11:59:26.70435Z",
     "iopub.status.busy": "2021-08-12T11:59:26.703974Z",
     "iopub.status.idle": "2021-08-12T11:59:26.708588Z",
     "shell.execute_reply": "2021-08-12T11:59:26.707433Z",
     "shell.execute_reply.started": "2021-08-12T11:59:26.704314Z"
    }
   },
   "outputs": [],
   "source": [
    "from tensorflow.keras.layers import Dense, Flatten, MaxPooling2D, Dropout, Conv2D, ZeroPadding2D"
   ]
  },
  {
   "cell_type": "code",
   "execution_count": null,
   "metadata": {
    "execution": {
     "iopub.execute_input": "2021-08-12T11:59:28.480851Z",
     "iopub.status.busy": "2021-08-12T11:59:28.480399Z",
     "iopub.status.idle": "2021-08-12T11:59:28.599927Z",
     "shell.execute_reply": "2021-08-12T11:59:28.599071Z",
     "shell.execute_reply.started": "2021-08-12T11:59:28.480807Z"
    }
   },
   "outputs": [],
   "source": [
    "model = Sequential()\n",
    "model.add(Conv2D(16, (22,22),input_shape=(IMAGE_SIZE, IMAGE_SIZE, 3), activation='relu', padding='same'))\n",
    "model.add(Conv2D(32, (16,16), input_shape=(28, 28, 3), activation='relu', padding='same'))\n",
    "model.add(Conv2D(64, (8,8), input_shape=(28, 28, 3), activation='relu', padding='same'))\n",
    "model.add(Conv2D(64, (4,4), input_shape=(28, 28, 3), activation='relu', padding='same'))\n",
    "model.add(MaxPooling2D(pool_size=(4, 4)))\n",
    "model.add(Dropout(0.4))\n",
    "model.add(Flatten())\n",
    "model.add(Dense(128, activation='relu'))\n",
    "model.add(Dense(64, activation=\"relu\"))\n",
    "model.add(Dense(4, activation=\"sigmoid\"))\n"
   ]
  },
  {
   "cell_type": "code",
   "execution_count": null,
   "metadata": {
    "execution": {
     "iopub.execute_input": "2021-08-12T11:59:43.461744Z",
     "iopub.status.busy": "2021-08-12T11:59:43.461388Z",
     "iopub.status.idle": "2021-08-12T11:59:43.470811Z",
     "shell.execute_reply": "2021-08-12T11:59:43.469925Z",
     "shell.execute_reply.started": "2021-08-12T11:59:43.461705Z"
    }
   },
   "outputs": [],
   "source": [
    "model.summary()"
   ]
  },
  {
   "cell_type": "code",
   "execution_count": null,
   "metadata": {
    "execution": {
     "iopub.execute_input": "2021-08-12T12:00:52.666316Z",
     "iopub.status.busy": "2021-08-12T12:00:52.665942Z",
     "iopub.status.idle": "2021-08-12T12:00:52.67919Z",
     "shell.execute_reply": "2021-08-12T12:00:52.678199Z",
     "shell.execute_reply.started": "2021-08-12T12:00:52.666279Z"
    }
   },
   "outputs": [],
   "source": [
    "model.compile(loss='mean_squared_error', optimizer='adam', metrics=['accuracy'])"
   ]
  },
  {
   "cell_type": "code",
   "execution_count": null,
   "metadata": {
    "execution": {
     "iopub.execute_input": "2021-08-12T12:01:10.792572Z",
     "iopub.status.busy": "2021-08-12T12:01:10.792181Z",
     "iopub.status.idle": "2021-08-12T12:02:55.192672Z",
     "shell.execute_reply": "2021-08-12T12:02:55.191832Z",
     "shell.execute_reply.started": "2021-08-12T12:01:10.792539Z"
    }
   },
   "outputs": [],
   "source": [
    "train1 = model.fit(X_train, y_train, validation_data=(X_val, y_val), epochs=50, batch_size=32, verbose=1)"
   ]
  },
  {
   "cell_type": "code",
   "execution_count": null,
   "metadata": {
    "execution": {
     "iopub.execute_input": "2021-08-12T12:07:00.447828Z",
     "iopub.status.busy": "2021-08-12T12:07:00.447443Z",
     "iopub.status.idle": "2021-08-12T12:07:00.703967Z",
     "shell.execute_reply": "2021-08-12T12:07:00.703089Z",
     "shell.execute_reply.started": "2021-08-12T12:07:00.447794Z"
    }
   },
   "outputs": [],
   "source": [
    "scores = model.evaluate(X_test, y_test, verbose=0)\n",
    "print(\"Score : %.2f%%\" % (scores[1]*100))"
   ]
  },
  {
   "cell_type": "markdown",
   "metadata": {},
   "source": [
    "# VGG19"
   ]
  },
  {
   "cell_type": "code",
   "execution_count": null,
   "metadata": {
    "execution": {
     "iopub.execute_input": "2021-08-12T11:51:18.49756Z",
     "iopub.status.busy": "2021-08-12T11:51:18.497192Z",
     "iopub.status.idle": "2021-08-12T11:51:18.920376Z",
     "shell.execute_reply": "2021-08-12T11:51:18.919341Z",
     "shell.execute_reply.started": "2021-08-12T11:51:18.497528Z"
    }
   },
   "outputs": [],
   "source": [
    "# Create the model\n",
    "model = Sequential()\n",
    "model.add(VGG19(weights=\"imagenet\", include_top=False, input_shape=(IMAGE_SIZE, IMAGE_SIZE, 3)))\n",
    "model.add(Flatten())\n",
    "model.add(Dense(128, activation=\"relu\"))\n",
    "model.add(Dense(128, activation=\"relu\"))\n",
    "model.add(Dense(64, activation=\"relu\"))\n",
    "model.add(Dense(4, activation=\"sigmoid\"))\n"
   ]
  },
  {
   "cell_type": "code",
   "execution_count": null,
   "metadata": {
    "execution": {
     "iopub.execute_input": "2021-08-12T11:51:25.921146Z",
     "iopub.status.busy": "2021-08-12T11:51:25.920796Z",
     "iopub.status.idle": "2021-08-12T11:51:25.933367Z",
     "shell.execute_reply": "2021-08-12T11:51:25.932194Z",
     "shell.execute_reply.started": "2021-08-12T11:51:25.921114Z"
    }
   },
   "outputs": [],
   "source": [
    "model.layers[-6].trainable = False\n",
    "\n",
    "model.summary()"
   ]
  },
  {
   "cell_type": "code",
   "execution_count": null,
   "metadata": {
    "execution": {
     "iopub.execute_input": "2021-08-12T11:51:28.04867Z",
     "iopub.status.busy": "2021-08-12T11:51:28.048183Z",
     "iopub.status.idle": "2021-08-12T11:51:28.06184Z",
     "shell.execute_reply": "2021-08-12T11:51:28.060729Z",
     "shell.execute_reply.started": "2021-08-12T11:51:28.048633Z"
    }
   },
   "outputs": [],
   "source": [
    "model.compile(loss='mean_squared_error', optimizer='adam', metrics=['accuracy'])"
   ]
  },
  {
   "cell_type": "code",
   "execution_count": null,
   "metadata": {
    "execution": {
     "iopub.execute_input": "2021-08-12T11:51:46.245406Z",
     "iopub.status.busy": "2021-08-12T11:51:46.24495Z",
     "iopub.status.idle": "2021-08-12T11:52:34.743987Z",
     "shell.execute_reply": "2021-08-12T11:52:34.743189Z",
     "shell.execute_reply.started": "2021-08-12T11:51:46.245367Z"
    }
   },
   "outputs": [],
   "source": [
    "train = model.fit(X_train, y_train, validation_data=(X_val, y_val), epochs=50, batch_size=32, verbose=1)"
   ]
  },
  {
   "cell_type": "code",
   "execution_count": null,
   "metadata": {
    "execution": {
     "iopub.execute_input": "2021-08-12T11:52:49.317938Z",
     "iopub.status.busy": "2021-08-12T11:52:49.317569Z",
     "iopub.status.idle": "2021-08-12T11:52:49.554205Z",
     "shell.execute_reply": "2021-08-12T11:52:49.553261Z",
     "shell.execute_reply.started": "2021-08-12T11:52:49.317903Z"
    }
   },
   "outputs": [],
   "source": [
    "model.save('carmodel.h5', overwrite=True) "
   ]
  },
  {
   "cell_type": "code",
   "execution_count": null,
   "metadata": {
    "execution": {
     "iopub.execute_input": "2021-08-12T11:52:57.493903Z",
     "iopub.status.busy": "2021-08-12T11:52:57.493525Z",
     "iopub.status.idle": "2021-08-12T11:52:57.832956Z",
     "shell.execute_reply": "2021-08-12T11:52:57.831843Z",
     "shell.execute_reply.started": "2021-08-12T11:52:57.493869Z"
    }
   },
   "outputs": [],
   "source": [
    "# Test\n",
    "scores = model.evaluate(X_test, y_test, verbose=0)\n",
    "print(\"Score : %.2f%%\" % (scores[1]*100))"
   ]
  },
  {
   "cell_type": "code",
   "execution_count": null,
   "metadata": {
    "execution": {
     "iopub.execute_input": "2021-08-12T11:53:07.60542Z",
     "iopub.status.busy": "2021-08-12T11:53:07.604972Z",
     "iopub.status.idle": "2021-08-12T11:53:07.612505Z",
     "shell.execute_reply": "2021-08-12T11:53:07.611404Z",
     "shell.execute_reply.started": "2021-08-12T11:53:07.605383Z"
    }
   },
   "outputs": [],
   "source": [
    "def plot_scores(train) :\n",
    "    accuracy = train.history['accuracy']\n",
    "    val_accuracy = train.history['val_accuracy']\n",
    "    epochs = range(len(accuracy))\n",
    "    plt.plot(epochs, accuracy, 'b', label='Score apprentissage')\n",
    "    plt.plot(epochs, val_accuracy, 'r', label='Score validation')\n",
    "    plt.title('Scores')\n",
    "    plt.legend()\n",
    "    plt.show()"
   ]
  },
  {
   "cell_type": "code",
   "execution_count": null,
   "metadata": {
    "execution": {
     "iopub.execute_input": "2021-08-12T11:53:12.970316Z",
     "iopub.status.busy": "2021-08-12T11:53:12.96993Z",
     "iopub.status.idle": "2021-08-12T11:53:13.126533Z",
     "shell.execute_reply": "2021-08-12T11:53:13.125595Z",
     "shell.execute_reply.started": "2021-08-12T11:53:12.970281Z"
    }
   },
   "outputs": [],
   "source": [
    "plot_scores(train)"
   ]
  },
  {
   "cell_type": "code",
   "execution_count": null,
   "metadata": {
    "execution": {
     "iopub.execute_input": "2021-08-12T11:53:22.38636Z",
     "iopub.status.busy": "2021-08-12T11:53:22.385988Z",
     "iopub.status.idle": "2021-08-12T11:53:23.553223Z",
     "shell.execute_reply": "2021-08-12T11:53:23.552418Z",
     "shell.execute_reply.started": "2021-08-12T11:53:22.386323Z"
    }
   },
   "outputs": [],
   "source": [
    "test_loss, test_accuracy = model.evaluate(X_test, y_test,steps=int(100))\n",
    "\n",
    "print(\"Test results \\n Loss:\",test_loss,'\\n Accuracy',test_accuracy)"
   ]
  },
  {
   "cell_type": "code",
   "execution_count": null,
   "metadata": {
    "execution": {
     "iopub.execute_input": "2021-08-12T11:53:38.601978Z",
     "iopub.status.busy": "2021-08-12T11:53:38.601609Z",
     "iopub.status.idle": "2021-08-12T11:53:39.094716Z",
     "shell.execute_reply": "2021-08-12T11:53:39.093837Z",
     "shell.execute_reply.started": "2021-08-12T11:53:38.601944Z"
    }
   },
   "outputs": [],
   "source": [
    " y_cnn = model.predict(X_test)"
   ]
  },
  {
   "cell_type": "code",
   "execution_count": null,
   "metadata": {
    "execution": {
     "iopub.execute_input": "2021-08-12T11:54:35.955407Z",
     "iopub.status.busy": "2021-08-12T11:54:35.954991Z",
     "iopub.status.idle": "2021-08-12T11:54:36.776573Z",
     "shell.execute_reply": "2021-08-12T11:54:36.775631Z",
     "shell.execute_reply.started": "2021-08-12T11:54:35.955368Z"
    }
   },
   "outputs": [],
   "source": [
    "plt.figure(figsize=(20,40))\n",
    "for i in range(10,20) :\n",
    "    plt.subplot(10,5,i+1)\n",
    "    plt.axis('off')\n",
    "    ny = y_cnn[i]*255\n",
    "    image = cv2.rectangle(X_test[i],(int(ny[0]),int(ny[1])),(int(ny[2]),int(ny[3])),(0, 255, 0))\n",
    "    plt.imshow(image)"
   ]
  },
  {
   "cell_type": "code",
   "execution_count": null,
   "metadata": {},
   "outputs": [],
   "source": []
  }
 ],
 "metadata": {
  "kernelspec": {
   "display_name": "Python 3",
   "language": "python",
   "name": "python3"
  },
  "language_info": {
   "codemirror_mode": {
    "name": "ipython",
    "version": 3
   },
   "file_extension": ".py",
   "mimetype": "text/x-python",
   "name": "python",
   "nbconvert_exporter": "python",
   "pygments_lexer": "ipython3",
   "version": "3.7.11"
  },
  "toc": {
   "base_numbering": 1,
   "nav_menu": {},
   "number_sections": true,
   "sideBar": true,
   "skip_h1_title": false,
   "title_cell": "Table of Contents",
   "title_sidebar": "Contents",
   "toc_cell": false,
   "toc_position": {},
   "toc_section_display": true,
   "toc_window_display": false
  },
  "varInspector": {
   "cols": {
    "lenName": 16,
    "lenType": 16,
    "lenVar": 40
   },
   "kernels_config": {
    "python": {
     "delete_cmd_postfix": "",
     "delete_cmd_prefix": "del ",
     "library": "var_list.py",
     "varRefreshCmd": "print(var_dic_list())"
    },
    "r": {
     "delete_cmd_postfix": ") ",
     "delete_cmd_prefix": "rm(",
     "library": "var_list.r",
     "varRefreshCmd": "cat(var_dic_list()) "
    }
   },
   "types_to_exclude": [
    "module",
    "function",
    "builtin_function_or_method",
    "instance",
    "_Feature"
   ],
   "window_display": false
  }
 },
 "nbformat": 4,
 "nbformat_minor": 4
}
